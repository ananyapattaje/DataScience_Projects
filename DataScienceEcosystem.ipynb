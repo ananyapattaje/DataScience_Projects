{
 "cells": [
  {
   "cell_type": "markdown",
   "id": "30d2e9fe-71bb-4745-b31d-b4f026304402",
   "metadata": {},
   "source": [
    "# Data Science Tools and Ecosystem"
   ]
  },
  {
   "cell_type": "markdown",
   "id": "3d036bba-d67b-4b76-80c4-126735d2ac19",
   "metadata": {},
   "source": [
    "In this notebook, Data Science Tools and Ecosystem are summarized."
   ]
  },
  {
   "cell_type": "markdown",
   "id": "0d74b4ed-33f5-45db-b60f-9579f62ce7ad",
   "metadata": {},
   "source": [
    "**Objectives:**\n",
    "- Python\n",
    "- SQL (Structured Query Language)\n",
    "- R\n",
    "- Julia.\n",
    "- JavaScript.\n",
    "- Scala.\n",
    "- Java."
   ]
  },
  {
   "cell_type": "markdown",
   "id": "ac069123-6679-44e0-8c45-028aa7807a69",
   "metadata": {},
   "source": [
    "Some of the popular languages that Data Scientists use are:\n",
    "1. Python\n",
    "2. R language\n",
    "3. SQL\n",
    "4. Scala"
   ]
  },
  {
   "cell_type": "markdown",
   "id": "293ed9d4-4259-4493-9eab-c66b141121a8",
   "metadata": {
    "tags": []
   },
   "source": [
    "Some of the commonly used libraries used by Data Scientists include:\n",
    "1. Matplotlib\n",
    "2. plotly\n",
    "3. ggplot\n",
    "4. pandas\n",
    "5. scipy\n",
    "6. pytorch\n",
    "7. seaborn"
   ]
  },
  {
   "cell_type": "markdown",
   "id": "5363107f-3851-4d9e-b3af-0ab8b76b5882",
   "metadata": {},
   "source": [
    "|Data Science Tools|\n",
    "|------------------|\n",
    "|Jupyter notebook|\n",
    "|R studio|\n",
    "|Apache spark|"
   ]
  },
  {
   "cell_type": "markdown",
   "id": "c98f12c9-6292-4b3a-94d2-bdd2e7dbcdd7",
   "metadata": {},
   "source": [
    "### Below are a few examples of evaluating arithmetic expressions in Python"
   ]
  },
  {
   "cell_type": "code",
   "execution_count": 2,
   "id": "07ffef9d-da82-4ce9-9d88-7db889d456a8",
   "metadata": {
    "tags": []
   },
   "outputs": [
    {
     "data": {
      "text/plain": [
       "17"
      ]
     },
     "execution_count": 2,
     "metadata": {},
     "output_type": "execute_result"
    }
   ],
   "source": [
    "# This a simple arithmetic expression to mutiply then add integers.\n",
    "(3*4)+5"
   ]
  },
  {
   "cell_type": "code",
   "execution_count": 3,
   "id": "fcf9b427-5d02-47f8-b13d-6e8d3625151e",
   "metadata": {
    "tags": []
   },
   "outputs": [
    {
     "data": {
      "text/plain": [
       "3.3333333333333335"
      ]
     },
     "execution_count": 3,
     "metadata": {},
     "output_type": "execute_result"
    }
   ],
   "source": [
    "# This will convert 200 minutes to hours by dividing by 60\n",
    "200/60"
   ]
  },
  {
   "cell_type": "markdown",
   "id": "4320c69a-03ec-4559-8647-11160b4a1025",
   "metadata": {},
   "source": [
    "## Author\n",
    "Ananya P S"
   ]
  },
  {
   "cell_type": "code",
   "execution_count": null,
   "id": "502184c8-1c6a-4e35-a8df-10be44f1334c",
   "metadata": {},
   "outputs": [],
   "source": []
  }
 ],
 "metadata": {
  "kernelspec": {
   "display_name": "Python",
   "language": "python",
   "name": "conda-env-python-py"
  },
  "language_info": {
   "codemirror_mode": {
    "name": "ipython",
    "version": 3
   },
   "file_extension": ".py",
   "mimetype": "text/x-python",
   "name": "python",
   "nbconvert_exporter": "python",
   "pygments_lexer": "ipython3",
   "version": "3.7.12"
  }
 },
 "nbformat": 4,
 "nbformat_minor": 5
}
